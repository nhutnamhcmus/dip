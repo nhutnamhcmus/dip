{
 "metadata": {
  "language_info": {
   "codemirror_mode": {
    "name": "ipython",
    "version": 3
   },
   "file_extension": ".py",
   "mimetype": "text/x-python",
   "name": "python",
   "nbconvert_exporter": "python",
   "pygments_lexer": "ipython3",
   "version": "3.7.9-final"
  },
  "orig_nbformat": 2,
  "kernelspec": {
   "name": "python3",
   "display_name": "Python 3"
  }
 },
 "nbformat": 4,
 "nbformat_minor": 2,
 "cells": [
  {
   "cell_type": "code",
   "execution_count": 3,
   "metadata": {},
   "outputs": [],
   "source": [
    "import cv2"
   ]
  },
  {
   "cell_type": "code",
   "execution_count": 4,
   "metadata": {},
   "outputs": [
    {
     "output_type": "execute_result",
     "data": {
      "text/plain": [
       "'4.4.0'"
      ]
     },
     "metadata": {},
     "execution_count": 4
    }
   ],
   "source": [
    "cv2.__version__"
   ]
  },
  {
   "cell_type": "code",
   "execution_count": 5,
   "metadata": {
    "tags": []
   },
   "outputs": [
    {
     "output_type": "stream",
     "name": "stdout",
     "text": [
      "\nGeneral configuration for OpenCV 4.4.0 =====================================\n  Version control:               4.4.0\n\n  Platform:\n    Timestamp:                   2020-11-02T20:26:28Z\n    Host:                        Windows 6.3.9600 AMD64\n    CMake:                       3.18.2\n    CMake generator:             Visual Studio 14 2015 Win64\n    CMake build tool:            C:/Program Files (x86)/MSBuild/14.0/bin/MSBuild.exe\n    MSVC:                        1900\n\n  CPU/HW features:\n    Baseline:                    SSE SSE2 SSE3\n      requested:                 SSE3\n    Dispatched code generation:  SSE4_1 SSE4_2 FP16 AVX AVX2\n      requested:                 SSE4_1 SSE4_2 AVX FP16 AVX2 AVX512_SKX\n      SSE4_1 (15 files):         + SSSE3 SSE4_1\n      SSE4_2 (1 files):          + SSSE3 SSE4_1 POPCNT SSE4_2\n      FP16 (0 files):            + SSSE3 SSE4_1 POPCNT SSE4_2 FP16 AVX\n      AVX (4 files):             + SSSE3 SSE4_1 POPCNT SSE4_2 AVX\n      AVX2 (29 files):           + SSSE3 SSE4_1 POPCNT SSE4_2 FP16 FMA3 AVX AVX2\n\n  C/C++:\n    Built as dynamic libs?:      NO\n    C++ standard:                11\n    C++ Compiler:                C:/Program Files (x86)/Microsoft Visual Studio 14.0/VC/bin/x86_amd64/cl.exe  (ver 19.0.24241.7)\n    C++ flags (Release):         /DWIN32 /D_WINDOWS /W4 /GR  /D _CRT_SECURE_NO_DEPRECATE /D _CRT_NONSTDC_NO_DEPRECATE /D _SCL_SECURE_NO_WARNINGS /Gy /bigobj /Oi  /fp:precise     /EHa /wd4127 /wd4251 /wd4324 /wd4275 /wd4512 /wd4589 /MP  /MT /O2 /Ob2 /DNDEBUG \n    C++ flags (Debug):           /DWIN32 /D_WINDOWS /W4 /GR  /D _CRT_SECURE_NO_DEPRECATE /D _CRT_NONSTDC_NO_DEPRECATE /D _SCL_SECURE_NO_WARNINGS /Gy /bigobj /Oi  /fp:precise     /EHa /wd4127 /wd4251 /wd4324 /wd4275 /wd4512 /wd4589 /MP  /MTd /Zi /Ob0 /Od /RTC1 \n    C Compiler:                  C:/Program Files (x86)/Microsoft Visual Studio 14.0/VC/bin/x86_amd64/cl.exe\n    C flags (Release):           /DWIN32 /D_WINDOWS /W3  /D _CRT_SECURE_NO_DEPRECATE /D _CRT_NONSTDC_NO_DEPRECATE /D _SCL_SECURE_NO_WARNINGS /Gy /bigobj /Oi  /fp:precise     /MP   /MT /O2 /Ob2 /DNDEBUG \n    C flags (Debug):             /DWIN32 /D_WINDOWS /W3  /D _CRT_SECURE_NO_DEPRECATE /D _CRT_NONSTDC_NO_DEPRECATE /D _SCL_SECURE_NO_WARNINGS /Gy /bigobj /Oi  /fp:precise     /MP /MTd /Zi /Ob0 /Od /RTC1 \n    Linker flags (Release):      /machine:x64  /NODEFAULTLIB:atlthunk.lib /INCREMENTAL:NO  /NODEFAULTLIB:libcmtd.lib /NODEFAULTLIB:libcpmtd.lib /NODEFAULTLIB:msvcrtd.lib\n    Linker flags (Debug):        /machine:x64  /NODEFAULTLIB:atlthunk.lib /debug /INCREMENTAL  /NODEFAULTLIB:libcmt.lib /NODEFAULTLIB:libcpmt.lib /NODEFAULTLIB:msvcrt.lib\n    ccache:                      NO\n    Precompiled headers:         YES\n    Extra dependencies:          ade wsock32 comctl32 gdi32 ole32 setupapi ws2_32\n    3rdparty dependencies:       ittnotify libprotobuf zlib libjpeg-turbo libwebp libpng libtiff libjasper IlmImf quirc ippiw ippicv\n\n  OpenCV modules:\n    To be built:                 calib3d core dnn features2d flann gapi highgui imgcodecs imgproc ml objdetect photo python3 stitching video videoio\n    Disabled:                    world\n    Disabled by dependency:      -\n    Unavailable:                 java js python2 ts\n    Applications:                -\n    Documentation:               NO\n    Non-free algorithms:         NO\n\n  Windows RT support:            NO\n\n  GUI: \n    Win32 UI:                    YES\n    VTK support:                 NO\n\n  Media I/O: \n    ZLib:                        build (ver 1.2.11)\n    JPEG:                        build-libjpeg-turbo (ver 2.0.5-62)\n    WEBP:                        build (ver encoder: 0x020f)\n    PNG:                         build (ver 1.6.37)\n    TIFF:                        build (ver 42 - 4.0.10)\n    JPEG 2000:                   build Jasper (ver 1.900.1)\n    OpenEXR:                     build (ver 2.3.0)\n    HDR:                         YES\n    SUNRASTER:                   YES\n    PXM:                         YES\n    PFM:                         YES\n\n  Video I/O:\n    DC1394:                      NO\n    FFMPEG:                      YES (prebuilt binaries)\n      avcodec:                   YES (58.54.100)\n      avformat:                  YES (58.29.100)\n      avutil:                    YES (56.31.100)\n      swscale:                   YES (5.5.100)\n      avresample:                YES (4.0.0)\n    GStreamer:                   NO\n    DirectShow:                  YES\n    Media Foundation:            YES\n      DXVA:                      NO\n\n  Parallel framework:            Concurrency\n\n  Trace:                         YES (with Intel ITT)\n\n  Other third-party libraries:\n    Intel IPP:                   2020.0.0 Gold [2020.0.0]\n           at:                   C:/Users/appveyor/AppData/Local/Temp/1/pip-req-build-6sxsq0tp/_skbuild/win-amd64-3.7/cmake-build/3rdparty/ippicv/ippicv_win/icv\n    Intel IPP IW:                sources (2020.0.0)\n              at:                C:/Users/appveyor/AppData/Local/Temp/1/pip-req-build-6sxsq0tp/_skbuild/win-amd64-3.7/cmake-build/3rdparty/ippicv/ippicv_win/iw\n    Lapack:                      NO\n    Eigen:                       NO\n    Custom HAL:                  NO\n    Protobuf:                    build (3.5.1)\n\n  OpenCL:                        YES (NVD3D11)\n    Include path:                C:/Users/appveyor/AppData/Local/Temp/1/pip-req-build-6sxsq0tp/opencv/3rdparty/include/opencl/1.2\n    Link libraries:              Dynamic load\n\n  Python 3:\n    Interpreter:                 C:/Python37-x64/python.exe (ver 3.7.5)\n    Libraries:                   C:/Python37-x64/libs/python37.lib (ver 3.7.5)\n    numpy:                       C:/Users/appveyor/AppData/Local/Temp/1/pip-build-env-ckpsvbcz/overlay/Lib/site-packages/numpy/core/include (ver 1.14.5)\n    install path:                python\n\n  Python (for build):            C:/Python27-x64/python.exe\n\n  Java:                          \n    ant:                         NO\n    JNI:                         C:/Program Files/Java/jdk1.8.0/include C:/Program Files/Java/jdk1.8.0/include/win32 C:/Program Files/Java/jdk1.8.0/include\n    Java wrappers:               NO\n    Java tests:                  NO\n\n  Install to:                    C:/Users/appveyor/AppData/Local/Temp/1/pip-req-build-6sxsq0tp/_skbuild/win-amd64-3.7/cmake-install\n-----------------------------------------------------------------\n\n\n"
     ]
    }
   ],
   "source": [
    "print(cv2.getBuildInformation())"
   ]
  },
  {
   "cell_type": "code",
   "execution_count": null,
   "metadata": {},
   "outputs": [],
   "source": []
  }
 ]
}