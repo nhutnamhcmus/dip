{
 "metadata": {
  "language_info": {
   "codemirror_mode": {
    "name": "ipython",
    "version": 3
   },
   "file_extension": ".py",
   "mimetype": "text/x-python",
   "name": "python",
   "nbconvert_exporter": "python",
   "pygments_lexer": "ipython3",
   "version": 3
  },
  "orig_nbformat": 2
 },
 "nbformat": 4,
 "nbformat_minor": 2,
 "cells": [
  {
   "cell_type": "code",
   "execution_count": null,
   "metadata": {},
   "outputs": [],
   "source": [
    "# Import thư viện OpenCV trong Python\n",
    "import cv2 as cv\n",
    "cv.__version__"
   ]
  },
  {
   "cell_type": "code",
   "execution_count": null,
   "metadata": {},
   "outputs": [],
   "source": [
    "import os, sys, math\n",
    "import numpy as np\n",
    "import matplotlib.pyplot as plt\n",
    "\n",
    "# Function read_image\n",
    "# Parameter: image_path là đường dẫn đến file ảnh cần đọc\n",
    "# Return ma trận ảnh\n",
    "def read_image(image_path):\n",
    "    image = cv.imread(image_path, -1)\n",
    "    return image\n",
    "\n",
    "# Function save_image\n",
    "# Parameter: image là ảnh nguồn, image_path là tên đường dẫn đến vị trí lưu\n",
    "# Return ma trận ảnh\n",
    "def save_image(image, image_path):\n",
    "    cv.imwrite(os.path.join(data_dir_path, image_path), image)\n",
    "\n",
    "# Function show_image\n",
    "# Parameter: image là ảnh nguồn\n",
    "# Show ảnh ra cửa sổ windows\n",
    "def show_image(image):\n",
    "    cv.imshow('image', image)\n",
    "    print(cv.waitKey(0))\n",
    "    cv.destroyAllWindows()\n",
    "\n",
    "# Function plot_image\n",
    "# Parameter: image là ảnh nguồn\n",
    "# Vẽ ảnh trên Jupyter Notebook\n",
    "def plot_image(image):\n",
    "    plt.figure(figsize=(10, 10))\n",
    "    plt.imshow(cv.cvtColor(image, cv.COLOR_BGR2RGB))\n",
    "\n",
    "# Kiểm tra\n",
    "img = read_image('./data/cat.jpg')\n",
    "plot_image(img)"
   ]
  },
  {
   "source": [
    "# Lọc ảnh và phát hiện biên cạnh trên miền không gian"
   ],
   "cell_type": "markdown",
   "metadata": {}
  },
  {
   "source": [
    "## Cài đặt hàm tích chập hai ảnh (Convolution)"
   ],
   "cell_type": "markdown",
   "metadata": {}
  },
  {
   "cell_type": "code",
   "execution_count": null,
   "metadata": {},
   "outputs": [],
   "source": []
  },
  {
   "source": [
    "## Lọc trung bình (Mean Filter)"
   ],
   "cell_type": "markdown",
   "metadata": {}
  },
  {
   "cell_type": "code",
   "execution_count": null,
   "metadata": {},
   "outputs": [],
   "source": []
  },
  {
   "source": [
    "## Lọc trung vị (Median Filter)"
   ],
   "cell_type": "markdown",
   "metadata": {}
  },
  {
   "cell_type": "code",
   "execution_count": null,
   "metadata": {},
   "outputs": [],
   "source": []
  },
  {
   "source": [
    "## Lọc Gaussian (Gaussian Filter)"
   ],
   "cell_type": "markdown",
   "metadata": {}
  },
  {
   "cell_type": "code",
   "execution_count": null,
   "metadata": {},
   "outputs": [],
   "source": []
  },
  {
   "source": [
    "## Phát hiện biên cạnh bằng Sobel"
   ],
   "cell_type": "markdown",
   "metadata": {}
  },
  {
   "cell_type": "code",
   "execution_count": null,
   "metadata": {},
   "outputs": [],
   "source": []
  },
  {
   "source": [
    "## Phát hiện biên cạnh bằng Prewitt"
   ],
   "cell_type": "markdown",
   "metadata": {}
  },
  {
   "cell_type": "code",
   "execution_count": null,
   "metadata": {},
   "outputs": [],
   "source": []
  },
  {
   "source": [
    "## Phát hiện biên cạnh bằng Laplace"
   ],
   "cell_type": "markdown",
   "metadata": {}
  },
  {
   "cell_type": "code",
   "execution_count": null,
   "metadata": {},
   "outputs": [],
   "source": []
  },
  {
   "cell_type": "code",
   "execution_count": null,
   "metadata": {},
   "outputs": [],
   "source": []
  }
 ]
}